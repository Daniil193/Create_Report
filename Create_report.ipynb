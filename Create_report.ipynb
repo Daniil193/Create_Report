{
 "cells": [
  {
   "cell_type": "code",
   "execution_count": 1,
   "metadata": {
    "collapsed": true
   },
   "outputs": [],
   "source": [
    "import pandas as pd\n",
    "import os"
   ]
  },
  {
   "cell_type": "code",
   "execution_count": 2,
   "metadata": {},
   "outputs": [
    {
     "data": {
      "text/plain": [
       "['Автомобиль.png',\n",
       " 'Будильник.png',\n",
       " 'Гараж.png',\n",
       " 'Календарь.png',\n",
       " 'Копилка.png',\n",
       " 'Корзина.png',\n",
       " 'Микрофон.png',\n",
       " 'Пазл.png',\n",
       " 'Подарок.png',\n",
       " 'Портрет.png']"
      ]
     },
     "execution_count": 2,
     "metadata": {},
     "output_type": "execute_result"
    }
   ],
   "source": [
    "list_img = os.listdir('Изображения/')\n",
    "list_img"
   ]
  },
  {
   "cell_type": "code",
   "execution_count": 3,
   "metadata": {},
   "outputs": [
    {
     "data": {
      "text/html": [
       "<div>\n",
       "<style>\n",
       "    .dataframe thead tr:only-child th {\n",
       "        text-align: right;\n",
       "    }\n",
       "\n",
       "    .dataframe thead th {\n",
       "        text-align: left;\n",
       "    }\n",
       "\n",
       "    .dataframe tbody tr th {\n",
       "        vertical-align: top;\n",
       "    }\n",
       "</style>\n",
       "<table border=\"1\" class=\"dataframe\">\n",
       "  <thead>\n",
       "    <tr style=\"text-align: right;\">\n",
       "      <th></th>\n",
       "      <th>Изображение</th>\n",
       "      <th>Пояснения</th>\n",
       "    </tr>\n",
       "  </thead>\n",
       "  <tbody>\n",
       "    <tr>\n",
       "      <th>0</th>\n",
       "      <td>Автомобиль</td>\n",
       "      <td>Средство передвижения</td>\n",
       "    </tr>\n",
       "    <tr>\n",
       "      <th>1</th>\n",
       "      <td>Будильник</td>\n",
       "      <td>Устройство пробуждения</td>\n",
       "    </tr>\n",
       "    <tr>\n",
       "      <th>2</th>\n",
       "      <td>Гараж</td>\n",
       "      <td>Помещение для средства передвижения</td>\n",
       "    </tr>\n",
       "    <tr>\n",
       "      <th>3</th>\n",
       "      <td>Календарь</td>\n",
       "      <td>Планировщик задач</td>\n",
       "    </tr>\n",
       "    <tr>\n",
       "      <th>4</th>\n",
       "      <td>Копилка</td>\n",
       "      <td>Приспособление для накопления сбережений</td>\n",
       "    </tr>\n",
       "    <tr>\n",
       "      <th>5</th>\n",
       "      <td>Корзина</td>\n",
       "      <td>Предмет для утилизации отходов</td>\n",
       "    </tr>\n",
       "    <tr>\n",
       "      <th>6</th>\n",
       "      <td>Микрофон</td>\n",
       "      <td>Устройство для переговоров</td>\n",
       "    </tr>\n",
       "    <tr>\n",
       "      <th>7</th>\n",
       "      <td>Пазл</td>\n",
       "      <td>Средвство для развития мышления и моторики</td>\n",
       "    </tr>\n",
       "    <tr>\n",
       "      <th>8</th>\n",
       "      <td>Подарок</td>\n",
       "      <td>Предмет для повышения настроения</td>\n",
       "    </tr>\n",
       "    <tr>\n",
       "      <th>9</th>\n",
       "      <td>Портрет</td>\n",
       "      <td>Предмет отображения визуальных характеристик</td>\n",
       "    </tr>\n",
       "  </tbody>\n",
       "</table>\n",
       "</div>"
      ],
      "text/plain": [
       "  Изображение                                     Пояснения\n",
       "0  Автомобиль                         Средство передвижения\n",
       "1   Будильник                        Устройство пробуждения\n",
       "2       Гараж           Помещение для средства передвижения\n",
       "3   Календарь                             Планировщик задач\n",
       "4     Копилка      Приспособление для накопления сбережений\n",
       "5     Корзина                Предмет для утилизации отходов\n",
       "6    Микрофон                    Устройство для переговоров\n",
       "7        Пазл    Средвство для развития мышления и моторики\n",
       "8     Подарок              Предмет для повышения настроения\n",
       "9     Портрет  Предмет отображения визуальных характеристик"
      ]
     },
     "execution_count": 3,
     "metadata": {},
     "output_type": "execute_result"
    }
   ],
   "source": [
    "df = pd.read_excel('Пояснения.xlsx', encoding='utf8')\n",
    "df"
   ]
  },
  {
   "cell_type": "code",
   "execution_count": 4,
   "metadata": {},
   "outputs": [],
   "source": [
    "def client_to_html(list_img, df):\n",
    "    \n",
    "    \n",
    "    with open('Report.html', 'w') as f:\n",
    "        html_tags = \\\n",
    "        \"\"\"\n",
    "       <!doctype html>\n",
    "        <html>\n",
    "        <head></head>\n",
    "        <body>    \n",
    "            <h1>Отчет с изображениями и пояснениями</h1>\n",
    "                <style>\n",
    "                    table {border-collapse: collapse;}\n",
    "                    td, th {border: 5px solid #000; text-align: \"center\"; padding: 8px; font-size:24pt}\n",
    "                </style>\n",
    "            <table style='width:100%'; border='5'>\n",
    "            <tr>\n",
    "                <th>Изображение</th>\n",
    "                <th>Пояснения</th>\n",
    "            </tr>\n",
    "        \"\"\"\n",
    "\n",
    "        f.write(html_tags)\n",
    "    \n",
    "    data = ''\n",
    "    for img in list_img:\n",
    "        \n",
    "        path_to_img = 'Изображения/' + img\n",
    "        description = str(df[df['Изображение'] == img.strip('.png')]['Пояснения'].values[0])\n",
    "    \n",
    "        data += '<tr>'\n",
    "        data += '<td align=\"center\"><img src={0} width=600></td>'.format(path_to_img)\n",
    "        data += '<td align=\"center\">{0}</td>'.format(description)\n",
    "        data += '<tr>'\n",
    "        \n",
    "    with open('Report.html', 'a') as f:\n",
    "        f.write(data)\n",
    "        html_tags = \"\"\"\n",
    "            </table>\n",
    "        </body>\n",
    "        </html>\n",
    "        \"\"\"\n",
    "        f.write(html_tags)"
   ]
  },
  {
   "cell_type": "code",
   "execution_count": 5,
   "metadata": {
    "collapsed": true
   },
   "outputs": [],
   "source": [
    "client_to_html(list_img, df)"
   ]
  },
  {
   "cell_type": "code",
   "execution_count": null,
   "metadata": {
    "collapsed": true
   },
   "outputs": [],
   "source": []
  }
 ],
 "metadata": {
  "kernelspec": {
   "display_name": "Python 3",
   "language": "python",
   "name": "python3"
  },
  "language_info": {
   "codemirror_mode": {
    "name": "ipython",
    "version": 3
   },
   "file_extension": ".py",
   "mimetype": "text/x-python",
   "name": "python",
   "nbconvert_exporter": "python",
   "pygments_lexer": "ipython3",
   "version": "3.6.1"
  }
 },
 "nbformat": 4,
 "nbformat_minor": 2
}
